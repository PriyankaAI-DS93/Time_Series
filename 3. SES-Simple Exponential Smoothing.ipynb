{
 "cells": [
  {
   "cell_type": "code",
   "execution_count": 1,
   "id": "877a9a2c-2bb8-401a-a5f4-56c3edc1b1c1",
   "metadata": {},
   "outputs": [],
   "source": [
    "import pandas as pd\n",
    "import numpy as np\n",
    "from nsepy import get_history as gh\n",
    "import datetime as dt\n",
    "import yfinance as yf"
   ]
  },
  {
   "cell_type": "code",
   "execution_count": 2,
   "id": "39b91a4f-c546-48c8-b524-a29baebb45c1",
   "metadata": {},
   "outputs": [
    {
     "data": {
      "text/html": [
       "<div>\n",
       "<style scoped>\n",
       "    .dataframe tbody tr th:only-of-type {\n",
       "        vertical-align: middle;\n",
       "    }\n",
       "\n",
       "    .dataframe tbody tr th {\n",
       "        vertical-align: top;\n",
       "    }\n",
       "\n",
       "    .dataframe thead th {\n",
       "        text-align: right;\n",
       "    }\n",
       "</style>\n",
       "<table border=\"1\" class=\"dataframe\">\n",
       "  <thead>\n",
       "    <tr style=\"text-align: right;\">\n",
       "      <th></th>\n",
       "      <th>Open</th>\n",
       "      <th>High</th>\n",
       "      <th>Low</th>\n",
       "      <th>Close</th>\n",
       "    </tr>\n",
       "    <tr>\n",
       "      <th>Date</th>\n",
       "      <th></th>\n",
       "      <th></th>\n",
       "      <th></th>\n",
       "      <th></th>\n",
       "    </tr>\n",
       "  </thead>\n",
       "  <tbody>\n",
       "    <tr>\n",
       "      <th>2013-01-01</th>\n",
       "      <td>1410.60</td>\n",
       "      <td>1427.90</td>\n",
       "      <td>1408.30</td>\n",
       "      <td>1415.10</td>\n",
       "    </tr>\n",
       "    <tr>\n",
       "      <th>2013-01-02</th>\n",
       "      <td>1421.00</td>\n",
       "      <td>1626.60</td>\n",
       "      <td>1416.15</td>\n",
       "      <td>1607.40</td>\n",
       "    </tr>\n",
       "    <tr>\n",
       "      <th>2013-01-03</th>\n",
       "      <td>1632.55</td>\n",
       "      <td>1673.90</td>\n",
       "      <td>1613.05</td>\n",
       "      <td>1626.20</td>\n",
       "    </tr>\n",
       "    <tr>\n",
       "      <th>2013-01-04</th>\n",
       "      <td>1627.75</td>\n",
       "      <td>1627.75</td>\n",
       "      <td>1574.60</td>\n",
       "      <td>1579.05</td>\n",
       "    </tr>\n",
       "    <tr>\n",
       "      <th>2013-01-07</th>\n",
       "      <td>1580.00</td>\n",
       "      <td>1639.50</td>\n",
       "      <td>1565.50</td>\n",
       "      <td>1595.65</td>\n",
       "    </tr>\n",
       "    <tr>\n",
       "      <th>...</th>\n",
       "      <td>...</td>\n",
       "      <td>...</td>\n",
       "      <td>...</td>\n",
       "      <td>...</td>\n",
       "    </tr>\n",
       "    <tr>\n",
       "      <th>2021-12-22</th>\n",
       "      <td>202.90</td>\n",
       "      <td>207.80</td>\n",
       "      <td>201.35</td>\n",
       "      <td>205.00</td>\n",
       "    </tr>\n",
       "    <tr>\n",
       "      <th>2021-12-23</th>\n",
       "      <td>206.00</td>\n",
       "      <td>206.85</td>\n",
       "      <td>202.05</td>\n",
       "      <td>202.95</td>\n",
       "    </tr>\n",
       "    <tr>\n",
       "      <th>2021-12-24</th>\n",
       "      <td>203.90</td>\n",
       "      <td>203.90</td>\n",
       "      <td>199.35</td>\n",
       "      <td>201.00</td>\n",
       "    </tr>\n",
       "    <tr>\n",
       "      <th>2021-12-27</th>\n",
       "      <td>200.00</td>\n",
       "      <td>222.00</td>\n",
       "      <td>196.00</td>\n",
       "      <td>218.35</td>\n",
       "    </tr>\n",
       "    <tr>\n",
       "      <th>2021-12-28</th>\n",
       "      <td>219.65</td>\n",
       "      <td>220.45</td>\n",
       "      <td>211.55</td>\n",
       "      <td>212.35</td>\n",
       "    </tr>\n",
       "  </tbody>\n",
       "</table>\n",
       "<p>2225 rows × 4 columns</p>\n",
       "</div>"
      ],
      "text/plain": [
       "               Open     High      Low    Close\n",
       "Date                                          \n",
       "2013-01-01  1410.60  1427.90  1408.30  1415.10\n",
       "2013-01-02  1421.00  1626.60  1416.15  1607.40\n",
       "2013-01-03  1632.55  1673.90  1613.05  1626.20\n",
       "2013-01-04  1627.75  1627.75  1574.60  1579.05\n",
       "2013-01-07  1580.00  1639.50  1565.50  1595.65\n",
       "...             ...      ...      ...      ...\n",
       "2021-12-22   202.90   207.80   201.35   205.00\n",
       "2021-12-23   206.00   206.85   202.05   202.95\n",
       "2021-12-24   203.90   203.90   199.35   201.00\n",
       "2021-12-27   200.00   222.00   196.00   218.35\n",
       "2021-12-28   219.65   220.45   211.55   212.35\n",
       "\n",
       "[2225 rows x 4 columns]"
      ]
     },
     "execution_count": 2,
     "metadata": {},
     "output_type": "execute_result"
    }
   ],
   "source": [
    "dataset=pd.read_csv(\"Tatacoffee13_21.csv\", parse_dates=['Date'], index_col='Date')\n",
    "dataset"
   ]
  },
  {
   "cell_type": "code",
   "execution_count": 3,
   "id": "f6d44cfd-b34b-4fe9-893e-ec41a59e1f1c",
   "metadata": {},
   "outputs": [],
   "source": [
    "column=\"Close\""
   ]
  },
  {
   "cell_type": "code",
   "execution_count": 4,
   "id": "41d33883-10e0-4bf7-b9b3-3d56fa956f54",
   "metadata": {},
   "outputs": [
    {
     "name": "stdout",
     "output_type": "stream",
     "text": [
      "Len: (2225, 1)\n"
     ]
    }
   ],
   "source": [
    "from sklearn.preprocessing import MinMaxScaler\n",
    "Ms = MinMaxScaler()\n",
    "data = Ms.fit_transform(dataset[[column]])\n",
    "print(\"Len:\", data.shape)"
   ]
  },
  {
   "cell_type": "code",
   "execution_count": 5,
   "id": "3c9bdd8d-4e3a-4e4f-a814-a1cf9b811909",
   "metadata": {},
   "outputs": [
    {
     "name": "stdout",
     "output_type": "stream",
     "text": [
      "1780\n",
      "x_train Length: (1780, 1)\n",
      "x_test Length: (445, 1)\n",
      "y_train Length: (1780, 1)\n",
      "y_test Length: (445, 1)\n"
     ]
    }
   ],
   "source": [
    "training_size = round(len(data) * 0.80)\n",
    "print(training_size)\n",
    "x_train=data[:training_size]\n",
    "x_test=data[training_size:]\n",
    "print(\"x_train Length:\", x_train.shape)\n",
    "print(\"x_test Length:\", x_test.shape)\n",
    "y_train=data[:training_size]\n",
    "y_test=data[training_size:]\n",
    "print(\"y_train Length:\", y_train.shape)\n",
    "print(\"y_test Length:\", y_test.shape)"
   ]
  },
  {
   "cell_type": "code",
   "execution_count": 6,
   "id": "81cc7fea-03c3-47bd-ac48-a326c57d6139",
   "metadata": {},
   "outputs": [
    {
     "name": "stderr",
     "output_type": "stream",
     "text": [
      "C:\\Anaconda3\\envs\\aiml\\lib\\site-packages\\pandas\\util\\_decorators.py:213: EstimationWarning: Model has no free parameters to estimate. Set optimized=False to suppress this warning\n",
      "  return func(*args, **kwargs)\n"
     ]
    }
   ],
   "source": [
    "from statsmodels.tsa.holtwinters import SimpleExpSmoothing\n",
    "model = SimpleExpSmoothing(x_train)\n",
    "result = model.fit(smoothing_level=0.5, optimized=True)"
   ]
  },
  {
   "cell_type": "code",
   "execution_count": null,
   "id": "a342f3dc-de89-47b3-b1fb-28e7e9ae4c88",
   "metadata": {},
   "outputs": [],
   "source": []
  },
  {
   "cell_type": "code",
   "execution_count": 7,
   "id": "8ac61480-004f-4869-a6fb-b098e6383ee0",
   "metadata": {},
   "outputs": [],
   "source": [
    "y_pred = result.predict(len(x_train), len(data)-1)"
   ]
  },
  {
   "cell_type": "code",
   "execution_count": 8,
   "id": "a8ee50ad-5f6c-4a8d-962c-b9ef055f8997",
   "metadata": {},
   "outputs": [
    {
     "data": {
      "image/png": "[encoded data removed]",
      "text/plain": [
       "<Figure size 1000x500 with 1 Axes>"
      ]
     },
     "metadata": {},
     "output_type": "display_data"
    }
   ],
   "source": [
    "from stockFunctions import graph\n",
    "graph(y_test, y_pred, \"Actual\", \"Predicted\", \"Tatacoffee-Close-SES-Norm\", \"Days\", \"Prices\")"
   ]
  },
  {
   "cell_type": "code",
   "execution_count": 9,
   "id": "6b2b6266-494e-4f19-9a73-ec1bc9ffb9cb",
   "metadata": {},
   "outputs": [],
   "source": [
    "from stockFunctions import conversionSingle\n",
    "SES_Norm_Test_Table=conversionSingle(y_test, [column])"
   ]
  },
  {
   "cell_type": "code",
   "execution_count": 10,
   "id": "1aac342d-23cf-4e36-805b-f1994db1a9a4",
   "metadata": {},
   "outputs": [
    {
     "data": {
      "text/html": [
       "<div>\n",
       "<style scoped>\n",
       "    .dataframe tbody tr th:only-of-type {\n",
       "        vertical-align: middle;\n",
       "    }\n",
       "\n",
       "    .dataframe tbody tr th {\n",
       "        vertical-align: top;\n",
       "    }\n",
       "\n",
       "    .dataframe thead th {\n",
       "        text-align: right;\n",
       "    }\n",
       "</style>\n",
       "<table border=\"1\" class=\"dataframe\">\n",
       "  <thead>\n",
       "    <tr style=\"text-align: right;\">\n",
       "      <th></th>\n",
       "      <th>Close</th>\n",
       "    </tr>\n",
       "  </thead>\n",
       "  <tbody>\n",
       "    <tr>\n",
       "      <th>0</th>\n",
       "      <td>0.009319</td>\n",
       "    </tr>\n",
       "    <tr>\n",
       "      <th>1</th>\n",
       "      <td>0.008569</td>\n",
       "    </tr>\n",
       "    <tr>\n",
       "      <th>2</th>\n",
       "      <td>0.007068</td>\n",
       "    </tr>\n",
       "    <tr>\n",
       "      <th>3</th>\n",
       "      <td>0.005817</td>\n",
       "    </tr>\n",
       "    <tr>\n",
       "      <th>4</th>\n",
       "      <td>0.006505</td>\n",
       "    </tr>\n",
       "    <tr>\n",
       "      <th>...</th>\n",
       "      <td>...</td>\n",
       "    </tr>\n",
       "    <tr>\n",
       "      <th>440</th>\n",
       "      <td>0.097323</td>\n",
       "    </tr>\n",
       "    <tr>\n",
       "      <th>441</th>\n",
       "      <td>0.096041</td>\n",
       "    </tr>\n",
       "    <tr>\n",
       "      <th>442</th>\n",
       "      <td>0.094821</td>\n",
       "    </tr>\n",
       "    <tr>\n",
       "      <th>443</th>\n",
       "      <td>0.105673</td>\n",
       "    </tr>\n",
       "    <tr>\n",
       "      <th>444</th>\n",
       "      <td>0.10192</td>\n",
       "    </tr>\n",
       "  </tbody>\n",
       "</table>\n",
       "<p>445 rows × 1 columns</p>\n",
       "</div>"
      ],
      "text/plain": [
       "        Close\n",
       "0    0.009319\n",
       "1    0.008569\n",
       "2    0.007068\n",
       "3    0.005817\n",
       "4    0.006505\n",
       "..        ...\n",
       "440  0.097323\n",
       "441  0.096041\n",
       "442  0.094821\n",
       "443  0.105673\n",
       "444   0.10192\n",
       "\n",
       "[445 rows x 1 columns]"
      ]
     },
     "execution_count": 10,
     "metadata": {},
     "output_type": "execute_result"
    }
   ],
   "source": [
    "SES_Norm_Test_Table"
   ]
  },
  {
   "cell_type": "code",
   "execution_count": 11,
   "id": "5023c135-71b8-41c5-9a86-693a4fadb9f3",
   "metadata": {},
   "outputs": [],
   "source": [
    "actual_stock_price_test_origi=Ms.inverse_transform(SES_Norm_Test_Table)"
   ]
  },
  {
   "cell_type": "code",
   "execution_count": 12,
   "id": "2a15eab7-c272-40a2-99c2-a1943f73d01e",
   "metadata": {},
   "outputs": [
    {
     "data": {
      "text/html": [
       "<div>\n",
       "<style scoped>\n",
       "    .dataframe tbody tr th:only-of-type {\n",
       "        vertical-align: middle;\n",
       "    }\n",
       "\n",
       "    .dataframe tbody tr th {\n",
       "        vertical-align: top;\n",
       "    }\n",
       "\n",
       "    .dataframe thead th {\n",
       "        text-align: right;\n",
       "    }\n",
       "</style>\n",
       "<table border=\"1\" class=\"dataframe\">\n",
       "  <thead>\n",
       "    <tr style=\"text-align: right;\">\n",
       "      <th></th>\n",
       "      <th>Close</th>\n",
       "    </tr>\n",
       "  </thead>\n",
       "  <tbody>\n",
       "    <tr>\n",
       "      <th>0</th>\n",
       "      <td>64.3</td>\n",
       "    </tr>\n",
       "    <tr>\n",
       "      <th>1</th>\n",
       "      <td>63.1</td>\n",
       "    </tr>\n",
       "    <tr>\n",
       "      <th>2</th>\n",
       "      <td>60.7</td>\n",
       "    </tr>\n",
       "    <tr>\n",
       "      <th>3</th>\n",
       "      <td>58.7</td>\n",
       "    </tr>\n",
       "    <tr>\n",
       "      <th>4</th>\n",
       "      <td>59.8</td>\n",
       "    </tr>\n",
       "    <tr>\n",
       "      <th>...</th>\n",
       "      <td>...</td>\n",
       "    </tr>\n",
       "    <tr>\n",
       "      <th>440</th>\n",
       "      <td>205.0</td>\n",
       "    </tr>\n",
       "    <tr>\n",
       "      <th>441</th>\n",
       "      <td>202.95</td>\n",
       "    </tr>\n",
       "    <tr>\n",
       "      <th>442</th>\n",
       "      <td>201.0</td>\n",
       "    </tr>\n",
       "    <tr>\n",
       "      <th>443</th>\n",
       "      <td>218.35</td>\n",
       "    </tr>\n",
       "    <tr>\n",
       "      <th>444</th>\n",
       "      <td>212.35</td>\n",
       "    </tr>\n",
       "  </tbody>\n",
       "</table>\n",
       "<p>445 rows × 1 columns</p>\n",
       "</div>"
      ],
      "text/plain": [
       "      Close\n",
       "0      64.3\n",
       "1      63.1\n",
       "2      60.7\n",
       "3      58.7\n",
       "4      59.8\n",
       "..      ...\n",
       "440   205.0\n",
       "441  202.95\n",
       "442   201.0\n",
       "443  218.35\n",
       "444  212.35\n",
       "\n",
       "[445 rows x 1 columns]"
      ]
     },
     "execution_count": 12,
     "metadata": {},
     "output_type": "execute_result"
    }
   ],
   "source": [
    "actual_stock_price_test_oriA=conversionSingle(actual_stock_price_test_origi,[column])\n",
    "actual_stock_price_test_oriA"
   ]
  },
  {
   "cell_type": "code",
   "execution_count": 13,
   "id": "fc4f4901-d605-492d-a9cf-6b15e5b95c04",
   "metadata": {},
   "outputs": [],
   "source": [
    "from stockFunctions import conversionSingle\n",
    "pTestNormTable=conversionSingle(y_pred,[column])\n",
    "predicted_stock_price_test_ori=Ms.inverse_transform(pTestNormTable)\n",
    "predicted_stock_price_test_oriP=conversionSingle(predicted_stock_price_test_ori,[column])"
   ]
  },
  {
   "cell_type": "code",
   "execution_count": 14,
   "id": "eff6d553-327b-4be9-a74a-167f277a41a9",
   "metadata": {},
   "outputs": [
    {
     "data": {
      "image/png": "[encoded data removed]",
      "text/plain": [
       "<Figure size 1000x500 with 1 Axes>"
      ]
     },
     "metadata": {},
     "output_type": "display_data"
    }
   ],
   "source": [
    "from stockFunctions import graph\n",
    "graph(actual_stock_price_test_oriA,predicted_stock_price_test_oriP,\"Actual\",\"Predicted\",\"TataCoffee-Close-SES-Ori\",\"Days\",\"Prices\")"
   ]
  },
  {
   "cell_type": "code",
   "execution_count": 15,
   "id": "d6dc8375-7f4c-4a36-bafd-35f96c81dbc6",
   "metadata": {},
   "outputs": [
    {
     "name": "stdout",
     "output_type": "stream",
     "text": [
      "RMSE-Testset: 85.40706509221285\n",
      "maPe-Testset: 0.4300851015876765\n"
     ]
    },
    {
     "name": "stderr",
     "output_type": "stream",
     "text": [
      "C:\\Anaconda3\\envs\\aiml\\lib\\site-packages\\sklearn\\metrics\\_regression.py:492: FutureWarning: 'squared' is deprecated in version 1.4 and will be removed in 1.6. To calculate the root mean squared error, use the function'root_mean_squared_error'.\n",
      "  warnings.warn(\n"
     ]
    }
   ],
   "source": [
    "from stockFunctions import rmsemape\n",
    "rmsemape(actual_stock_price_test_oriA,predicted_stock_price_test_oriP)"
   ]
  },
  {
   "cell_type": "code",
   "execution_count": 16,
   "id": "4d5cbc29-351a-4b78-82d1-9f4aab433759",
   "metadata": {},
   "outputs": [
    {
     "data": {
      "text/plain": [
       "array([0.01189075, 0.01189075, 0.01189075, 0.01189075])"
      ]
     },
     "execution_count": 16,
     "metadata": {},
     "output_type": "execute_result"
    }
   ],
   "source": [
    "forecast=result.predict(len(data), len(data)+3)\n",
    "forecast"
   ]
  },
  {
   "cell_type": "code",
   "execution_count": 17,
   "id": "f91267e4-82df-43cb-9824-e91ee049c563",
   "metadata": {},
   "outputs": [],
   "source": [
    "from stockFunctions import conversionSingle\n",
    "fTestNormTable=conversionSingle(forecast,[\"Closefore\"])\n",
    "forecast_stock_price_test_ori=Ms.inverse_transform(fTestNormTable)\n",
    "forecast_stock_price_test_oriF=conversionSingle(forecast_stock_price_test_ori,[\"Closefore\"])"
   ]
  },
  {
   "cell_type": "code",
   "execution_count": 18,
   "id": "a5030fdc-4785-4485-9854-31626f909c3d",
   "metadata": {},
   "outputs": [
    {
     "data": {
      "text/html": [
       "<div>\n",
       "<style scoped>\n",
       "    .dataframe tbody tr th:only-of-type {\n",
       "        vertical-align: middle;\n",
       "    }\n",
       "\n",
       "    .dataframe tbody tr th {\n",
       "        vertical-align: top;\n",
       "    }\n",
       "\n",
       "    .dataframe thead th {\n",
       "        text-align: right;\n",
       "    }\n",
       "</style>\n",
       "<table border=\"1\" class=\"dataframe\">\n",
       "  <thead>\n",
       "    <tr style=\"text-align: right;\">\n",
       "      <th></th>\n",
       "      <th>Closefore</th>\n",
       "    </tr>\n",
       "  </thead>\n",
       "  <tbody>\n",
       "    <tr>\n",
       "      <th>0</th>\n",
       "      <td>68.410927</td>\n",
       "    </tr>\n",
       "    <tr>\n",
       "      <th>1</th>\n",
       "      <td>68.410927</td>\n",
       "    </tr>\n",
       "    <tr>\n",
       "      <th>2</th>\n",
       "      <td>68.410927</td>\n",
       "    </tr>\n",
       "    <tr>\n",
       "      <th>3</th>\n",
       "      <td>68.410927</td>\n",
       "    </tr>\n",
       "  </tbody>\n",
       "</table>\n",
       "</div>"
      ],
      "text/plain": [
       "   Closefore\n",
       "0  68.410927\n",
       "1  68.410927\n",
       "2  68.410927\n",
       "3  68.410927"
      ]
     },
     "execution_count": 18,
     "metadata": {},
     "output_type": "execute_result"
    }
   ],
   "source": [
    "forecast_stock_price_test_oriF"
   ]
  },
  {
   "cell_type": "code",
   "execution_count": 19,
   "id": "e14bacc7-9eee-49a4-9350-97b20aceb9a4",
   "metadata": {},
   "outputs": [],
   "source": [
    "forecast_stock_price_test_oriF.to_csv(\"CloseSES.csv\",index=False)"
   ]
  },
  {
   "cell_type": "code",
   "execution_count": null,
   "id": "c8fa66fb-dde2-4809-8413-4cc490faa560",
   "metadata": {},
   "outputs": [],
   "source": []
  }
 ],
 "metadata": {
  "kernelspec": {
   "display_name": "Python 3 (ipykernel)",
   "language": "python",
   "name": "python3"
  },
  "language_info": {
   "codemirror_mode": {
    "name": "ipython",
    "version": 3
   },
   "file_extension": ".py",
   "mimetype": "text/x-python",
   "name": "python",
   "nbconvert_exporter": "python",
   "pygments_lexer": "ipython3",
   "version": "3.10.16"
  }
 },
 "nbformat": 4,
 "nbformat_minor": 5
}
