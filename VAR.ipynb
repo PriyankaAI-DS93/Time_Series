{
 "cells": [
  {
   "cell_type": "code",
   "execution_count": 27,
   "id": "6c1583b4-6fad-46eb-a3aa-11cf8686f727",
   "metadata": {},
   "outputs": [],
   "source": [
    "import pandas as pd\n",
    "import numpy as np\n",
    "from nsepy import get_history as gh\n",
    "import datetime as dt\n",
    "import yfinance as yf"
   ]
  },
  {
   "cell_type": "code",
   "execution_count": 28,
   "id": "6ded41ed-08b8-4710-8679-07c1c8ccc5a9",
   "metadata": {},
   "outputs": [
    {
     "data": {
      "text/html": [
       "<div>\n",
       "<style scoped>\n",
       "    .dataframe tbody tr th:only-of-type {\n",
       "        vertical-align: middle;\n",
       "    }\n",
       "\n",
       "    .dataframe tbody tr th {\n",
       "        vertical-align: top;\n",
       "    }\n",
       "\n",
       "    .dataframe thead th {\n",
       "        text-align: right;\n",
       "    }\n",
       "</style>\n",
       "<table border=\"1\" class=\"dataframe\">\n",
       "  <thead>\n",
       "    <tr style=\"text-align: right;\">\n",
       "      <th></th>\n",
       "      <th>Open</th>\n",
       "      <th>High</th>\n",
       "      <th>Low</th>\n",
       "      <th>Close</th>\n",
       "    </tr>\n",
       "    <tr>\n",
       "      <th>Date</th>\n",
       "      <th></th>\n",
       "      <th></th>\n",
       "      <th></th>\n",
       "      <th></th>\n",
       "    </tr>\n",
       "  </thead>\n",
       "  <tbody>\n",
       "    <tr>\n",
       "      <th>2013-01-01</th>\n",
       "      <td>1410.60</td>\n",
       "      <td>1427.90</td>\n",
       "      <td>1408.30</td>\n",
       "      <td>1415.10</td>\n",
       "    </tr>\n",
       "    <tr>\n",
       "      <th>2013-01-02</th>\n",
       "      <td>1421.00</td>\n",
       "      <td>1626.60</td>\n",
       "      <td>1416.15</td>\n",
       "      <td>1607.40</td>\n",
       "    </tr>\n",
       "    <tr>\n",
       "      <th>2013-01-03</th>\n",
       "      <td>1632.55</td>\n",
       "      <td>1673.90</td>\n",
       "      <td>1613.05</td>\n",
       "      <td>1626.20</td>\n",
       "    </tr>\n",
       "    <tr>\n",
       "      <th>2013-01-04</th>\n",
       "      <td>1627.75</td>\n",
       "      <td>1627.75</td>\n",
       "      <td>1574.60</td>\n",
       "      <td>1579.05</td>\n",
       "    </tr>\n",
       "    <tr>\n",
       "      <th>2013-01-07</th>\n",
       "      <td>1580.00</td>\n",
       "      <td>1639.50</td>\n",
       "      <td>1565.50</td>\n",
       "      <td>1595.65</td>\n",
       "    </tr>\n",
       "    <tr>\n",
       "      <th>...</th>\n",
       "      <td>...</td>\n",
       "      <td>...</td>\n",
       "      <td>...</td>\n",
       "      <td>...</td>\n",
       "    </tr>\n",
       "    <tr>\n",
       "      <th>2021-12-22</th>\n",
       "      <td>202.90</td>\n",
       "      <td>207.80</td>\n",
       "      <td>201.35</td>\n",
       "      <td>205.00</td>\n",
       "    </tr>\n",
       "    <tr>\n",
       "      <th>2021-12-23</th>\n",
       "      <td>206.00</td>\n",
       "      <td>206.85</td>\n",
       "      <td>202.05</td>\n",
       "      <td>202.95</td>\n",
       "    </tr>\n",
       "    <tr>\n",
       "      <th>2021-12-24</th>\n",
       "      <td>203.90</td>\n",
       "      <td>203.90</td>\n",
       "      <td>199.35</td>\n",
       "      <td>201.00</td>\n",
       "    </tr>\n",
       "    <tr>\n",
       "      <th>2021-12-27</th>\n",
       "      <td>200.00</td>\n",
       "      <td>222.00</td>\n",
       "      <td>196.00</td>\n",
       "      <td>218.35</td>\n",
       "    </tr>\n",
       "    <tr>\n",
       "      <th>2021-12-28</th>\n",
       "      <td>219.65</td>\n",
       "      <td>220.45</td>\n",
       "      <td>211.55</td>\n",
       "      <td>212.35</td>\n",
       "    </tr>\n",
       "  </tbody>\n",
       "</table>\n",
       "<p>2225 rows × 4 columns</p>\n",
       "</div>"
      ],
      "text/plain": [
       "               Open     High      Low    Close\n",
       "Date                                          \n",
       "2013-01-01  1410.60  1427.90  1408.30  1415.10\n",
       "2013-01-02  1421.00  1626.60  1416.15  1607.40\n",
       "2013-01-03  1632.55  1673.90  1613.05  1626.20\n",
       "2013-01-04  1627.75  1627.75  1574.60  1579.05\n",
       "2013-01-07  1580.00  1639.50  1565.50  1595.65\n",
       "...             ...      ...      ...      ...\n",
       "2021-12-22   202.90   207.80   201.35   205.00\n",
       "2021-12-23   206.00   206.85   202.05   202.95\n",
       "2021-12-24   203.90   203.90   199.35   201.00\n",
       "2021-12-27   200.00   222.00   196.00   218.35\n",
       "2021-12-28   219.65   220.45   211.55   212.35\n",
       "\n",
       "[2225 rows x 4 columns]"
      ]
     },
     "execution_count": 28,
     "metadata": {},
     "output_type": "execute_result"
    }
   ],
   "source": [
    "dataset=pd.read_csv(\"Tatacoffee13_21.csv\", parse_dates=['Date'], index_col='Date')\n",
    "dataset"
   ]
  },
  {
   "cell_type": "markdown",
   "id": "2313e0a4-511c-4424-aa66-56d114f38ed2",
   "metadata": {},
   "source": [
    "## Normalization"
   ]
  },
  {
   "cell_type": "code",
   "execution_count": 29,
   "id": "eb70ba38-020a-48cd-9e8a-1ccc98d73309",
   "metadata": {},
   "outputs": [
    {
     "name": "stdout",
     "output_type": "stream",
     "text": [
      "Len: (2225, 4)\n"
     ]
    }
   ],
   "source": [
    "from sklearn.preprocessing import MinMaxScaler\n",
    "Ms = MinMaxScaler()\n",
    "data = Ms.fit_transform(dataset)\n",
    "print(\"Len:\", data.shape)"
   ]
  },
  {
   "cell_type": "markdown",
   "id": "67470fcb-c376-484a-b72a-a6c40617c26e",
   "metadata": {},
   "source": [
    "## New DataFrame after applying MinMax normalization "
   ]
  },
  {
   "cell_type": "code",
   "execution_count": 30,
   "id": "f9ac4770-7f3c-4e78-a4cf-bda25d85d0ae",
   "metadata": {},
   "outputs": [],
   "source": [
    "data=pd.DataFrame(data,columns=[\"Open\",\"High\",\"Low\",\"Close\"])"
   ]
  },
  {
   "cell_type": "code",
   "execution_count": 31,
   "id": "c2e6628d-4a55-436b-8681-3e7a42c063fb",
   "metadata": {},
   "outputs": [
    {
     "name": "stdout",
     "output_type": "stream",
     "text": [
      "1780\n",
      "x_train Length: (1780, 4)\n",
      "x_test Length: (445, 4)\n",
      "y_train Length: (1780, 4)\n",
      "y_test Length: (445, 4)\n"
     ]
    }
   ],
   "source": [
    "training_size = round(len(data) * 0.80)\n",
    "print(training_size)\n",
    "x_train=data[:training_size]\n",
    "x_test=data[training_size:]\n",
    "print(\"x_train Length:\", x_train.shape)\n",
    "print(\"x_test Length:\", x_test.shape)\n",
    "y_train=data[:training_size]\n",
    "y_test=data[training_size:]\n",
    "print(\"y_train Length:\", y_train.shape)\n",
    "print(\"y_test Length:\", y_test.shape)"
   ]
  },
  {
   "cell_type": "code",
   "execution_count": 32,
   "id": "0bfed1bb-c910-41b3-b450-7554641ad796",
   "metadata": {},
   "outputs": [],
   "source": [
    "import warnings\n",
    "warnings.filterwarnings(\"ignore\")"
   ]
  },
  {
   "cell_type": "markdown",
   "id": "dd345569-bb45-4fb9-8b08-cd8b9749f0d7",
   "metadata": {},
   "source": [
    "## Create dictionary with 5 keys"
   ]
  },
  {
   "cell_type": "code",
   "execution_count": 33,
   "id": "1cb6544b-0643-4563-9095-c50aca4de219",
   "metadata": {},
   "outputs": [],
   "source": [
    "performance={\"Model\":[],\"RMSE\":[],\"MaPe\":[],\"Lag\":[],\"Test\":[]}"
   ]
  },
  {
   "cell_type": "markdown",
   "id": "f0a815cc-9b42-40b3-b445-d1a8d121326e",
   "metadata": {},
   "source": [
    "## Create list OHLC"
   ]
  },
  {
   "cell_type": "code",
   "execution_count": 34,
   "id": "feec1552-36e5-45a3-802c-5d2f35fe295a",
   "metadata": {},
   "outputs": [
    {
     "name": "stdout",
     "output_type": "stream",
     "text": [
      "['Close', 'High', 'Open', 'Low']\n"
     ]
    }
   ],
   "source": [
    "listt=[\"Close\",\"High\",\"Open\",\"Low\"]\n",
    "print(listt)"
   ]
  },
  {
   "cell_type": "code",
   "execution_count": 35,
   "id": "640ce47e-5ab4-4202-b457-427e99ebd24b",
   "metadata": {},
   "outputs": [],
   "source": [
    "datasetTwo=data[listt]\n",
    "test_obs = 100"
   ]
  },
  {
   "cell_type": "markdown",
   "id": "e33fd92e-375b-483a-8a20-0e9b9927b43a",
   "metadata": {},
   "source": [
    "## Spilit Train and Test"
   ]
  },
  {
   "cell_type": "code",
   "execution_count": 36,
   "id": "a5d69b43-47c8-48cd-87af-5581c31f3f3e",
   "metadata": {},
   "outputs": [],
   "source": [
    "train =datasetTwo[:-test_obs]\n",
    "test = datasetTwo[-test_obs:]"
   ]
  },
  {
   "cell_type": "markdown",
   "id": "50fbbb2a-978e-46af-9121-22b83853dae8",
   "metadata": {},
   "source": [
    "## Create a Model"
   ]
  },
  {
   "cell_type": "code",
   "execution_count": null,
   "id": "9bf2fb8c-6c72-435f-822f-946b9fff6074",
   "metadata": {},
   "outputs": [],
   "source": [
    "# AIC (Akaike Information Criterion):\n",
    "# BIC (Bayesian Information Criterion): \n",
    "from statsmodels.tsa.api import VAR\n",
    "for i in range(1, 11):\n",
    "        model = VAR(train)\n",
    "        model_fit = model.fit(i)\n",
    "        print('Order =', i)\n",
    "        print('AIC: ', model_fit.aic)\n",
    "        print('BIC: ', model_fit.bic)\n",
    "        print()"
   ]
  },
  {
   "cell_type": "markdown",
   "id": "f7a55791-9abd-44ce-8485-13458c587f78",
   "metadata": {},
   "source": [
    "## Selecting the best one based on AIC"
   ]
  },
  {
   "cell_type": "code",
   "execution_count": 46,
   "id": "c80ad819-7006-4b7b-ab10-1d01b6f88aa4",
   "metadata": {},
   "outputs": [],
   "source": [
    "x = model.select_order(maxlags=12)\n",
    "order=x.selected_orders[\"aic\"]\n",
    "result = model.fit(order)"
   ]
  },
  {
   "cell_type": "code",
   "execution_count": 39,
   "id": "e38d4028-accd-4d28-9b2a-a2bd79d12403",
   "metadata": {},
   "outputs": [
    {
     "data": {
      "text/plain": [
       "np.int64(11)"
      ]
     },
     "execution_count": 39,
     "metadata": {},
     "output_type": "execute_result"
    }
   ],
   "source": [
    "order"
   ]
  },
  {
   "cell_type": "markdown",
   "id": "baec99d1-3e02-49ea-8c4f-4e2f4ccde5bd",
   "metadata": {},
   "source": [
    "## Prediction and saved result to csv files"
   ]
  },
  {
   "cell_type": "code",
   "execution_count": 40,
   "id": "09d43caa-2507-413b-9de5-314d35679d47",
   "metadata": {},
   "outputs": [],
   "source": [
    "lagged_Values = train.values[-order:]\n",
    "pred = result.forecast(y=lagged_Values,steps=100) \n",
    "preds=pd.DataFrame(pred,columns=listt)\n",
    "preds.to_csv(\"varforecasted_{}.csv\".format(test_obs))"
   ]
  },
  {
   "cell_type": "code",
   "execution_count": 41,
   "id": "a2d7ff05-bb58-49cb-a398-e92d6b574de8",
   "metadata": {},
   "outputs": [
    {
     "data": {
      "text/plain": [
       "array([[0.08737803, 0.08625982, 0.08803696, 0.08779383],\n",
       "       [0.08443833, 0.08555378, 0.0875999 , 0.08448976],\n",
       "       [0.09357018, 0.09276768, 0.08903596, 0.08977627],\n",
       "       [0.09941831, 0.09798625, 0.09805819, 0.09660468],\n",
       "       [0.10389042, 0.10277505, 0.09965035, 0.1010101 ],\n",
       "       [0.11627471, 0.11714145, 0.10620629, 0.10705183],\n",
       "       [0.10364023, 0.1202112 , 0.11831918, 0.10088423],\n",
       "       [0.10138854, 0.10366528, 0.10133616, 0.09953114],\n",
       "       [0.10201401, 0.10277505, 0.10121129, 0.10207999],\n",
       "       [0.10151364, 0.10105599, 0.10280345, 0.10207999],\n",
       "       [0.09841756, 0.09985879, 0.10180445, 0.09880739]])"
      ]
     },
     "execution_count": 41,
     "metadata": {},
     "output_type": "execute_result"
    }
   ],
   "source": [
    "lagged_Values"
   ]
  },
  {
   "cell_type": "code",
   "execution_count": 42,
   "id": "0bec27bc-cd1c-422d-b975-672ed279aac1",
   "metadata": {},
   "outputs": [
    {
     "data": {
      "text/html": [
       "<div>\n",
       "<style scoped>\n",
       "    .dataframe tbody tr th:only-of-type {\n",
       "        vertical-align: middle;\n",
       "    }\n",
       "\n",
       "    .dataframe tbody tr th {\n",
       "        vertical-align: top;\n",
       "    }\n",
       "\n",
       "    .dataframe thead th {\n",
       "        text-align: right;\n",
       "    }\n",
       "</style>\n",
       "<table border=\"1\" class=\"dataframe\">\n",
       "  <thead>\n",
       "    <tr style=\"text-align: right;\">\n",
       "      <th></th>\n",
       "      <th>Close</th>\n",
       "      <th>High</th>\n",
       "      <th>Open</th>\n",
       "      <th>Low</th>\n",
       "    </tr>\n",
       "  </thead>\n",
       "  <tbody>\n",
       "    <tr>\n",
       "      <th>0</th>\n",
       "      <td>0.097534</td>\n",
       "      <td>0.098006</td>\n",
       "      <td>0.099270</td>\n",
       "      <td>0.097856</td>\n",
       "    </tr>\n",
       "    <tr>\n",
       "      <th>1</th>\n",
       "      <td>0.095685</td>\n",
       "      <td>0.095652</td>\n",
       "      <td>0.096348</td>\n",
       "      <td>0.094995</td>\n",
       "    </tr>\n",
       "    <tr>\n",
       "      <th>2</th>\n",
       "      <td>0.094177</td>\n",
       "      <td>0.095693</td>\n",
       "      <td>0.096198</td>\n",
       "      <td>0.092455</td>\n",
       "    </tr>\n",
       "    <tr>\n",
       "      <th>3</th>\n",
       "      <td>0.095152</td>\n",
       "      <td>0.095120</td>\n",
       "      <td>0.094630</td>\n",
       "      <td>0.094319</td>\n",
       "    </tr>\n",
       "    <tr>\n",
       "      <th>4</th>\n",
       "      <td>0.095111</td>\n",
       "      <td>0.094974</td>\n",
       "      <td>0.094697</td>\n",
       "      <td>0.094379</td>\n",
       "    </tr>\n",
       "    <tr>\n",
       "      <th>...</th>\n",
       "      <td>...</td>\n",
       "      <td>...</td>\n",
       "      <td>...</td>\n",
       "      <td>...</td>\n",
       "    </tr>\n",
       "    <tr>\n",
       "      <th>95</th>\n",
       "      <td>0.089419</td>\n",
       "      <td>0.089085</td>\n",
       "      <td>0.089534</td>\n",
       "      <td>0.089313</td>\n",
       "    </tr>\n",
       "    <tr>\n",
       "      <th>96</th>\n",
       "      <td>0.089313</td>\n",
       "      <td>0.088978</td>\n",
       "      <td>0.089427</td>\n",
       "      <td>0.089206</td>\n",
       "    </tr>\n",
       "    <tr>\n",
       "      <th>97</th>\n",
       "      <td>0.089206</td>\n",
       "      <td>0.088872</td>\n",
       "      <td>0.089320</td>\n",
       "      <td>0.089100</td>\n",
       "    </tr>\n",
       "    <tr>\n",
       "      <th>98</th>\n",
       "      <td>0.089100</td>\n",
       "      <td>0.088766</td>\n",
       "      <td>0.089214</td>\n",
       "      <td>0.088995</td>\n",
       "    </tr>\n",
       "    <tr>\n",
       "      <th>99</th>\n",
       "      <td>0.088994</td>\n",
       "      <td>0.088660</td>\n",
       "      <td>0.089108</td>\n",
       "      <td>0.088889</td>\n",
       "    </tr>\n",
       "  </tbody>\n",
       "</table>\n",
       "<p>100 rows × 4 columns</p>\n",
       "</div>"
      ],
      "text/plain": [
       "       Close      High      Open       Low\n",
       "0   0.097534  0.098006  0.099270  0.097856\n",
       "1   0.095685  0.095652  0.096348  0.094995\n",
       "2   0.094177  0.095693  0.096198  0.092455\n",
       "3   0.095152  0.095120  0.094630  0.094319\n",
       "4   0.095111  0.094974  0.094697  0.094379\n",
       "..       ...       ...       ...       ...\n",
       "95  0.089419  0.089085  0.089534  0.089313\n",
       "96  0.089313  0.088978  0.089427  0.089206\n",
       "97  0.089206  0.088872  0.089320  0.089100\n",
       "98  0.089100  0.088766  0.089214  0.088995\n",
       "99  0.088994  0.088660  0.089108  0.088889\n",
       "\n",
       "[100 rows x 4 columns]"
      ]
     },
     "execution_count": 42,
     "metadata": {},
     "output_type": "execute_result"
    }
   ],
   "source": [
    "preds"
   ]
  },
  {
   "cell_type": "markdown",
   "id": "4748374d-2bb1-4c94-872e-bea86862a273",
   "metadata": {},
   "source": [
    "## Evaluation Metrics"
   ]
  },
  {
   "cell_type": "code",
   "execution_count": 43,
   "id": "4a7fcde8-893e-4575-b0bf-aa1f0331e089",
   "metadata": {},
   "outputs": [],
   "source": [
    "from sklearn.metrics import mean_squared_error\n",
    "rmse= round(mean_squared_error(test,pred,squared=False))\n",
    "from sklearn.metrics import mean_absolute_percentage_error\n",
    "mape=mean_absolute_percentage_error(test,pred)"
   ]
  },
  {
   "cell_type": "markdown",
   "id": "ad3ad84a-fc2c-42ed-b637-e9e901cc7ec6",
   "metadata": {},
   "source": [
    "## Append the Values to the Dictionary performance"
   ]
  },
  {
   "cell_type": "code",
   "execution_count": 44,
   "id": "c1d265b9-b7f6-4d14-b7af-63826b9d1180",
   "metadata": {},
   "outputs": [],
   "source": [
    "performance[\"Model\"].append(listt)\n",
    "performance[\"RMSE\"].append(rmse)\n",
    "performance[\"MaPe\"].append(mape)\n",
    "performance[\"Lag\"].append(order)\n",
    "performance[\"Test\"].append(test_obs)\n",
    "perf=pd.DataFrame(performance)"
   ]
  },
  {
   "cell_type": "code",
   "execution_count": 45,
   "id": "6499ca8c-6193-436e-8048-a927cc64ec04",
   "metadata": {},
   "outputs": [
    {
     "data": {
      "text/html": [
       "<div>\n",
       "<style scoped>\n",
       "    .dataframe tbody tr th:only-of-type {\n",
       "        vertical-align: middle;\n",
       "    }\n",
       "\n",
       "    .dataframe tbody tr th {\n",
       "        vertical-align: top;\n",
       "    }\n",
       "\n",
       "    .dataframe thead th {\n",
       "        text-align: right;\n",
       "    }\n",
       "</style>\n",
       "<table border=\"1\" class=\"dataframe\">\n",
       "  <thead>\n",
       "    <tr style=\"text-align: right;\">\n",
       "      <th></th>\n",
       "      <th>Model</th>\n",
       "      <th>RMSE</th>\n",
       "      <th>MaPe</th>\n",
       "      <th>Lag</th>\n",
       "      <th>Test</th>\n",
       "    </tr>\n",
       "  </thead>\n",
       "  <tbody>\n",
       "    <tr>\n",
       "      <th>0</th>\n",
       "      <td>[Close, High, Open, Low]</td>\n",
       "      <td>0</td>\n",
       "      <td>0.07746</td>\n",
       "      <td>11</td>\n",
       "      <td>100</td>\n",
       "    </tr>\n",
       "  </tbody>\n",
       "</table>\n",
       "</div>"
      ],
      "text/plain": [
       "                      Model  RMSE     MaPe  Lag  Test\n",
       "0  [Close, High, Open, Low]     0  0.07746   11   100"
      ]
     },
     "execution_count": 45,
     "metadata": {},
     "output_type": "execute_result"
    }
   ],
   "source": [
    "perf"
   ]
  },
  {
   "cell_type": "code",
   "execution_count": null,
   "id": "16d91343-adc7-45b0-a54d-c4ab03da202d",
   "metadata": {},
   "outputs": [],
   "source": []
  }
 ],
 "metadata": {
  "kernelspec": {
   "display_name": "Python 3 (ipykernel)",
   "language": "python",
   "name": "python3"
  },
  "language_info": {
   "codemirror_mode": {
    "name": "ipython",
    "version": 3
   },
   "file_extension": ".py",
   "mimetype": "text/x-python",
   "name": "python",
   "nbconvert_exporter": "python",
   "pygments_lexer": "ipython3",
   "version": "3.10.16"
  }
 },
 "nbformat": 4,
 "nbformat_minor": 5
}
